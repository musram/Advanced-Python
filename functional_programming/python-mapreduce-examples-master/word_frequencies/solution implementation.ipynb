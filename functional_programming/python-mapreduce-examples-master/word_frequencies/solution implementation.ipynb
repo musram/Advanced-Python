{
 "cells": [
  {
   "cell_type": "code",
   "execution_count": 2,
   "id": "852fb7c2",
   "metadata": {},
   "outputs": [],
   "source": [
    "from collections import namedtuple\n",
    "from functools import reduce\n",
    "from pprint import pprint"
   ]
  },
  {
   "cell_type": "code",
   "execution_count": 3,
   "id": "afe2d1a5",
   "metadata": {},
   "outputs": [],
   "source": [
    "def read_file(file_name):\n",
    "    apparels_list = []\n",
    "    with open(\"data/\"+file_name, \"r\") as f:\n",
    "        lines = f.read().split(\" \")\n",
    "        for line in lines:\n",
    "            for word in line.split(\"\\n\"):\n",
    "                apparels_list.append(word) \n",
    "            \n",
    "    return apparels_list"
   ]
  },
  {
   "cell_type": "code",
   "execution_count": 4,
   "id": "4f26df6a",
   "metadata": {},
   "outputs": [],
   "source": [
    "words = read_file(\"text_a.txt\") + read_file(\"text_b.txt\") + read_file(\"text_c.txt\")"
   ]
  },
  {
   "cell_type": "code",
   "execution_count": 5,
   "id": "c44a1767",
   "metadata": {},
   "outputs": [],
   "source": [
    "words_remove_slashn = map(lambda x : x.lower().split(\";\")[0], map(lambda x : x.split(\".\")[0], map(lambda x : x.split(\"\\n\")[0], words)))"
   ]
  },
  {
   "cell_type": "code",
   "execution_count": 6,
   "id": "c1c98295",
   "metadata": {},
   "outputs": [
    {
     "data": {
      "text/plain": [
       "{'the': 3,\n",
       " 'quick': 1,\n",
       " 'brown': 1,\n",
       " 'fox': 1,\n",
       " 'jumped': 1,\n",
       " 'over': 1,\n",
       " 'lazy': 1,\n",
       " 'grey': 1,\n",
       " 'dogs': 1,\n",
       " '': 3,\n",
       " \"that's\": 1,\n",
       " 'one': 2,\n",
       " 'small': 1,\n",
       " 'step': 1,\n",
       " 'for': 2,\n",
       " 'a': 2,\n",
       " 'man,': 1,\n",
       " 'giant': 1,\n",
       " 'leap': 1,\n",
       " 'mankind': 1,\n",
       " 'mary': 2,\n",
       " 'had': 1,\n",
       " 'little': 1,\n",
       " 'lamb,': 1,\n",
       " 'its': 1,\n",
       " 'fleece': 1,\n",
       " 'was': 2,\n",
       " 'white': 1,\n",
       " 'as': 1,\n",
       " 'snow': 1,\n",
       " 'and': 1,\n",
       " 'everywhere': 1,\n",
       " 'that': 1,\n",
       " 'went,': 1,\n",
       " 'lamb': 1,\n",
       " 'sure': 1,\n",
       " 'to': 1,\n",
       " 'go': 1}"
      ]
     },
     "execution_count": 6,
     "metadata": {},
     "output_type": "execute_result"
    }
   ],
   "source": [
    "reduce(lambda acc, val: {**acc, **{val: acc.get(val, 0) + 1}}, words_remove_slashn, {} )"
   ]
  },
  {
   "cell_type": "code",
   "execution_count": null,
   "id": "5e61b2b1",
   "metadata": {},
   "outputs": [],
   "source": []
  }
 ],
 "metadata": {
  "kernelspec": {
   "display_name": "Python 3",
   "language": "python",
   "name": "python3"
  },
  "language_info": {
   "codemirror_mode": {
    "name": "ipython",
    "version": 3
   },
   "file_extension": ".py",
   "mimetype": "text/x-python",
   "name": "python",
   "nbconvert_exporter": "python",
   "pygments_lexer": "ipython3",
   "version": "3.8.10"
  }
 },
 "nbformat": 4,
 "nbformat_minor": 5
}
