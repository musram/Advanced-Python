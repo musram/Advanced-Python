{
 "cells": [
  {
   "cell_type": "code",
   "execution_count": 1,
   "id": "15543ae5",
   "metadata": {},
   "outputs": [],
   "source": [
    "from collections import namedtuple\n",
    "from pprint import pprint\n",
    "from functools import reduce\n"
   ]
  },
  {
   "cell_type": "code",
   "execution_count": 3,
   "id": "1fda7dc8",
   "metadata": {},
   "outputs": [],
   "source": [
    "apparels = namedtuple(\"apparels\", [\"data\", \"time\", \"city\", \"type\", \"amount\", \"card\"])"
   ]
  },
  {
   "cell_type": "code",
   "execution_count": 4,
   "id": "464c9946",
   "metadata": {},
   "outputs": [
    {
     "name": "stdout",
     "output_type": "stream",
     "text": [
      "['']\n"
     ]
    }
   ],
   "source": [
    "apparels_list = []\n",
    "with open(\"data/example.txt\") as f:\n",
    "    lines = f.read().split(\"\\n\")\n",
    "    for words in lines:\n",
    "            words = words.split(\"\\t\")\n",
    "            try:\n",
    "                apparels_list.append(apparels(data=words[0], time=words[1], city=words[2], type=words[3], amount=words[4], card=words[5]))\n",
    "            except IndexError:\n",
    "                print(words)"
   ]
  },
  {
   "cell_type": "code",
   "execution_count": 5,
   "id": "bb7eb762",
   "metadata": {},
   "outputs": [
    {
     "data": {
      "text/plain": [
       "[apparels(data='2012-07-16', time='15:43', city='Las Vegas', type=\"Men's Clothing\", amount='208.97', card='Visa'),\n",
       " apparels(data='2012-06-11', time='16:17', city='Miami', type='Crafts', amount='84.11', card='Amex'),\n",
       " apparels(data='2012-10-17', time='15:30', city='Tucson', type='Crafts', amount='489.93', card='Cash'),\n",
       " apparels(data='2012-10-25', time='15:01', city='San Francisco', type=\"Men's Clothing\", amount='388.3', card='Visa'),\n",
       " apparels(data='2012-07-13', time='09:01', city='Dallas', type='Consumer Electronics', amount='145.63', card='Cash'),\n",
       " apparels(data='2012-11-06', time='13:02', city='Tampa', type='Garden', amount='353.23', card='MasterCard'),\n",
       " apparels(data='2012-09-07', time='12:58', city='Washington', type=\"Women's Clothing\", amount='481.31', card='MasterCard'),\n",
       " apparels(data='2012-08-05', time='16:34', city='San Jose', type='DVDs', amount='492.8', card='Discover'),\n",
       " apparels(data='2012-04-22', time='13:12', city='Newark', type='Consumer Electronics', amount='410.37', card='Visa'),\n",
       " apparels(data='2012-10-19', time='11:35', city='Memphis', type='Garden', amount='354.44', card='Discover'),\n",
       " apparels(data='2012-10-10', time='13:17', city='Jersey City', type='Books', amount='369.07', card='Amex'),\n",
       " apparels(data='2012-04-27', time='11:54', city='Plano', type=\"Women's Clothing\", amount='4.65', card='Cash'),\n",
       " apparels(data='2012-08-28', time='14:56', city='Buffalo', type='Video Games', amount='337.35', card='Discover'),\n",
       " apparels(data='2012-09-17', time='13:09', city='Louisville', type='Music', amount='213.64', card='Discover'),\n",
       " apparels(data='2012-02-24', time='12:05', city='Miami', type=\"Women's Clothing\", amount='154.64', card='Cash'),\n",
       " apparels(data='2012-01-02', time='10:04', city='Los', type='Angeles Pet Supplies', amount='164.5', card='Discover'),\n",
       " apparels(data='2012-11-15', time='15:46', city='Birmingham', type=\"Men's Clothing\", amount='1.64', card='Cash'),\n",
       " apparels(data='2012-03-16', time='11:18', city='Mesa', type='Toys', amount='13.79', card='Visa'),\n",
       " apparels(data='2012-06-25', time='10:05', city='Wichita', type='Consumer Electronics', amount='158.25', card='Amex'),\n",
       " apparels(data='2012-04-05', time='17:03', city='Indianapolis', type='Pet Supplies', amount='152.77', card='Amex'),\n",
       " apparels(data='2012-11-08', time='15:19', city='San Bernardino', type='Video Games', amount='332.43', card='Discover'),\n",
       " apparels(data='2012-08-08', time='10:09', city='Indianapolis', type='Health and Beauty', amount='464.36', card='Amex'),\n",
       " apparels(data='2012-03-02', time='09:25', city='Stockton', type=\"Men's Clothing\", amount='180.61', card='Discover'),\n",
       " apparels(data='2012-02-27', time='16:12', city='Austin', type='Health and Beauty', amount='48.09', card='Visa'),\n",
       " apparels(data='2012-12-29', time='16:56', city='Buffalo', type='Garden', amount='386.56', card='Amex'),\n",
       " apparels(data='2012-03-20', time='09:02', city='Santa Ana', type='Books', amount='2.75', card='Amex'),\n",
       " apparels(data='2012-10-30', time='11:52', city='Gilbert', type='DVDs', amount='11.31', card='Amex'),\n",
       " apparels(data='2012-02-03', time='11:02', city='New York', type='DVDs', amount='221.35', card='Visa'),\n",
       " apparels(data='2012-07-26', time='16:16', city='Corpus Christi', type='Health and Beauty', amount='157.91', card='Amex'),\n",
       " apparels(data='2012-07-20', time='11:46', city='Riverside', type='Video Games', amount='349.41', card='Visa'),\n",
       " apparels(data='2012-10-04', time='12:25', city='Chicago', type=\"Children's Clothing\", amount='364.53', card='MasterCard'),\n",
       " apparels(data='2012-02-04', time='11:53', city='Fremont', type='Video Games', amount='404.17', card='Cash'),\n",
       " apparels(data='2012-05-31', time='14:43', city='Rochester', type='Video Games', amount='460.39', card='Amex'),\n",
       " apparels(data='2012-05-25', time='16:11', city='Raleigh', type='Computers', amount='61.22', card='MasterCard'),\n",
       " apparels(data='2012-05-11', time='12:39', city='Chicago', type='Pet Supplies', amount='431.73', card='Cash'),\n",
       " apparels(data='2012-04-07', time='11:39', city='Cincinnati', type='Computers', amount='288.32', card='Discover'),\n",
       " apparels(data='2012-04-18', time='16:57', city='Rochester', type='Consumer Electronics', amount='342.62', card='Amex'),\n",
       " apparels(data='2012-12-19', time='10:12', city='Pittsburgh', type='Books', amount='498.29', card='Cash'),\n",
       " apparels(data='2012-01-21', time='14:50', city='Rochester', type='Cameras', amount='485.71', card='MasterCard'),\n",
       " apparels(data='2012-11-15', time='09:23', city='Glendale', type='Video Games', amount='14.09', card='Amex'),\n",
       " apparels(data='2012-01-07', time='14:20', city='Cincinnati', type='Crafts', amount='1.41', card='Amex'),\n",
       " apparels(data='2012-10-20', time='14:53', city='Irvine', type='Video Games', amount='15.19', card='Discover'),\n",
       " apparels(data='2012-03-04', time='12:11', city='Boston', type='Video Games', amount='397.21', card='Visa'),\n",
       " apparels(data='2012-01-11', time='09:04', city='Scottsdale', type='Garden', amount='214.32', card='Discover'),\n",
       " apparels(data='2012-08-11', time='10:57', city='Atlanta', type='Garden', amount='189.22', card='Visa'),\n",
       " apparels(data='2012-05-22', time='13:08', city='Cincinnati', type=\"Men's Clothing\", amount='443.78', card='Visa'),\n",
       " apparels(data='2012-01-11', time='17:20', city='Lubbock', type='Garden', amount='27.68', card='Cash'),\n",
       " apparels(data='2012-01-16', time='13:31', city='Cincinnati', type='Cameras', amount='129.6', card='Cash'),\n",
       " apparels(data='2012-02-10', time='10:39', city='Santa Ana', type='Computers', amount='282.13', card='MasterCard'),\n",
       " apparels(data='2012-03-22', time='09:57', city='Aurora', type='DVDs', amount='82.38', card='Discover')]"
      ]
     },
     "execution_count": 5,
     "metadata": {},
     "output_type": "execute_result"
    }
   ],
   "source": [
    "apparels_list"
   ]
  },
  {
   "cell_type": "code",
   "execution_count": 18,
   "id": "af4ffa28",
   "metadata": {},
   "outputs": [],
   "source": [
    "cities = set(reduce(lambda acc, val: acc + [val.city],apparels_list, [] ))"
   ]
  },
  {
   "cell_type": "code",
   "execution_count": 23,
   "id": "a6a380a0",
   "metadata": {},
   "outputs": [
    {
     "data": {
      "text/plain": [
       "{'Tucson': 489.93,\n",
       " 'Los': 164.5,\n",
       " 'Riverside': 349.41,\n",
       " 'Memphis': 354.44,\n",
       " 'Newark': 410.37,\n",
       " 'Miami': 238.75,\n",
       " 'Fremont': 404.17,\n",
       " 'Birmingham': 1.64,\n",
       " 'Boston': 397.21,\n",
       " 'Aurora': 82.38,\n",
       " 'Las Vegas': 208.97,\n",
       " 'Atlanta': 189.22,\n",
       " 'Gilbert': 11.31,\n",
       " 'San Jose': 492.8,\n",
       " 'Austin': 48.09,\n",
       " 'Santa Ana': 284.88,\n",
       " 'Scottsdale': 214.32,\n",
       " 'Stockton': 180.61,\n",
       " 'Jersey City': 369.07,\n",
       " 'Buffalo': 723.9100000000001,\n",
       " 'Irvine': 15.19,\n",
       " 'New York': 221.35,\n",
       " 'Washington': 481.31,\n",
       " 'San Francisco': 388.3,\n",
       " 'San Bernardino': 332.43,\n",
       " 'Cincinnati': 863.11,\n",
       " 'Mesa': 13.79,\n",
       " 'Chicago': 796.26,\n",
       " 'Dallas': 145.63,\n",
       " 'Plano': 4.65,\n",
       " 'Glendale': 14.09,\n",
       " 'Indianapolis': 617.13,\n",
       " 'Raleigh': 61.22,\n",
       " 'Corpus Christi': 157.91,\n",
       " 'Wichita': 158.25,\n",
       " 'Pittsburgh': 498.29,\n",
       " 'Rochester': 1288.72,\n",
       " 'Tampa': 353.23,\n",
       " 'Louisville': 213.64,\n",
       " 'Lubbock': 27.68}"
      ]
     },
     "execution_count": 23,
     "metadata": {},
     "output_type": "execute_result"
    }
   ],
   "source": [
    "reduce(lambda acc, val: {**acc, **{val.city: acc[val.city] + float(val.amount) }}, apparels_list, {key:0 for key in cities})"
   ]
  },
  {
   "cell_type": "markdown",
   "id": "b76455c8",
   "metadata": {},
   "source": [
    "using groupby"
   ]
  },
  {
   "cell_type": "code",
   "execution_count": 24,
   "id": "854e532b",
   "metadata": {},
   "outputs": [],
   "source": [
    "from itertools import groupby"
   ]
  },
  {
   "cell_type": "code",
   "execution_count": 33,
   "id": "c73ae847",
   "metadata": {},
   "outputs": [
    {
     "data": {
      "text/plain": [
       "{'Las Vegas': [apparels(data='2012-07-16', time='15:43', city='Las Vegas', type=\"Men's Clothing\", amount='208.97', card='Visa')],\n",
       " 'Miami': [apparels(data='2012-02-24', time='12:05', city='Miami', type=\"Women's Clothing\", amount='154.64', card='Cash')],\n",
       " 'Tucson': [apparels(data='2012-10-17', time='15:30', city='Tucson', type='Crafts', amount='489.93', card='Cash')],\n",
       " 'San Francisco': [apparels(data='2012-10-25', time='15:01', city='San Francisco', type=\"Men's Clothing\", amount='388.3', card='Visa')],\n",
       " 'Dallas': [apparels(data='2012-07-13', time='09:01', city='Dallas', type='Consumer Electronics', amount='145.63', card='Cash')],\n",
       " 'Tampa': [apparels(data='2012-11-06', time='13:02', city='Tampa', type='Garden', amount='353.23', card='MasterCard')],\n",
       " 'Washington': [apparels(data='2012-09-07', time='12:58', city='Washington', type=\"Women's Clothing\", amount='481.31', card='MasterCard')],\n",
       " 'San Jose': [apparels(data='2012-08-05', time='16:34', city='San Jose', type='DVDs', amount='492.8', card='Discover')],\n",
       " 'Newark': [apparels(data='2012-04-22', time='13:12', city='Newark', type='Consumer Electronics', amount='410.37', card='Visa')],\n",
       " 'Memphis': [apparels(data='2012-10-19', time='11:35', city='Memphis', type='Garden', amount='354.44', card='Discover')],\n",
       " 'Jersey City': [apparels(data='2012-10-10', time='13:17', city='Jersey City', type='Books', amount='369.07', card='Amex')],\n",
       " 'Plano': [apparels(data='2012-04-27', time='11:54', city='Plano', type=\"Women's Clothing\", amount='4.65', card='Cash')],\n",
       " 'Buffalo': [apparels(data='2012-12-29', time='16:56', city='Buffalo', type='Garden', amount='386.56', card='Amex')],\n",
       " 'Louisville': [apparels(data='2012-09-17', time='13:09', city='Louisville', type='Music', amount='213.64', card='Discover')],\n",
       " 'Los': [apparels(data='2012-01-02', time='10:04', city='Los', type='Angeles Pet Supplies', amount='164.5', card='Discover')],\n",
       " 'Birmingham': [apparels(data='2012-11-15', time='15:46', city='Birmingham', type=\"Men's Clothing\", amount='1.64', card='Cash')],\n",
       " 'Mesa': [apparels(data='2012-03-16', time='11:18', city='Mesa', type='Toys', amount='13.79', card='Visa')],\n",
       " 'Wichita': [apparels(data='2012-06-25', time='10:05', city='Wichita', type='Consumer Electronics', amount='158.25', card='Amex')],\n",
       " 'Indianapolis': [apparels(data='2012-08-08', time='10:09', city='Indianapolis', type='Health and Beauty', amount='464.36', card='Amex')],\n",
       " 'San Bernardino': [apparels(data='2012-11-08', time='15:19', city='San Bernardino', type='Video Games', amount='332.43', card='Discover')],\n",
       " 'Stockton': [apparels(data='2012-03-02', time='09:25', city='Stockton', type=\"Men's Clothing\", amount='180.61', card='Discover')],\n",
       " 'Austin': [apparels(data='2012-02-27', time='16:12', city='Austin', type='Health and Beauty', amount='48.09', card='Visa')],\n",
       " 'Santa Ana': [apparels(data='2012-02-10', time='10:39', city='Santa Ana', type='Computers', amount='282.13', card='MasterCard')],\n",
       " 'Gilbert': [apparels(data='2012-10-30', time='11:52', city='Gilbert', type='DVDs', amount='11.31', card='Amex')],\n",
       " 'New York': [apparels(data='2012-02-03', time='11:02', city='New York', type='DVDs', amount='221.35', card='Visa')],\n",
       " 'Corpus Christi': [apparels(data='2012-07-26', time='16:16', city='Corpus Christi', type='Health and Beauty', amount='157.91', card='Amex')],\n",
       " 'Riverside': [apparels(data='2012-07-20', time='11:46', city='Riverside', type='Video Games', amount='349.41', card='Visa')],\n",
       " 'Chicago': [apparels(data='2012-05-11', time='12:39', city='Chicago', type='Pet Supplies', amount='431.73', card='Cash')],\n",
       " 'Fremont': [apparels(data='2012-02-04', time='11:53', city='Fremont', type='Video Games', amount='404.17', card='Cash')],\n",
       " 'Rochester': [apparels(data='2012-01-21', time='14:50', city='Rochester', type='Cameras', amount='485.71', card='MasterCard')],\n",
       " 'Raleigh': [apparels(data='2012-05-25', time='16:11', city='Raleigh', type='Computers', amount='61.22', card='MasterCard')],\n",
       " 'Cincinnati': [apparels(data='2012-01-16', time='13:31', city='Cincinnati', type='Cameras', amount='129.6', card='Cash')],\n",
       " 'Pittsburgh': [apparels(data='2012-12-19', time='10:12', city='Pittsburgh', type='Books', amount='498.29', card='Cash')],\n",
       " 'Glendale': [apparels(data='2012-11-15', time='09:23', city='Glendale', type='Video Games', amount='14.09', card='Amex')],\n",
       " 'Irvine': [apparels(data='2012-10-20', time='14:53', city='Irvine', type='Video Games', amount='15.19', card='Discover')],\n",
       " 'Boston': [apparels(data='2012-03-04', time='12:11', city='Boston', type='Video Games', amount='397.21', card='Visa')],\n",
       " 'Scottsdale': [apparels(data='2012-01-11', time='09:04', city='Scottsdale', type='Garden', amount='214.32', card='Discover')],\n",
       " 'Atlanta': [apparels(data='2012-08-11', time='10:57', city='Atlanta', type='Garden', amount='189.22', card='Visa')],\n",
       " 'Lubbock': [apparels(data='2012-01-11', time='17:20', city='Lubbock', type='Garden', amount='27.68', card='Cash')],\n",
       " 'Aurora': [apparels(data='2012-03-22', time='09:57', city='Aurora', type='DVDs', amount='82.38', card='Discover')]}"
      ]
     },
     "execution_count": 33,
     "metadata": {},
     "output_type": "execute_result"
    }
   ],
   "source": [
    "{x[0]: list(x[1]) for x in groupby(apparels_list, key=lambda x : x.city)}"
   ]
  },
  {
   "cell_type": "code",
   "execution_count": 2,
   "id": "a4cf0225",
   "metadata": {},
   "outputs": [
    {
     "data": {
      "text/plain": [
       "{1, 2, 3, 4}"
      ]
     },
     "execution_count": 2,
     "metadata": {},
     "output_type": "execute_result"
    }
   ],
   "source": [
    "example = {'foo': [1,2,3], 'bar': [3, 4, 1]}\n",
    "reduce(lambda res, key: res.union(example[key]), example, set())"
   ]
  },
  {
   "cell_type": "code",
   "execution_count": null,
   "id": "0bcbc6e2",
   "metadata": {},
   "outputs": [],
   "source": []
  }
 ],
 "metadata": {
  "kernelspec": {
   "display_name": "Python 3",
   "language": "python",
   "name": "python3"
  },
  "language_info": {
   "codemirror_mode": {
    "name": "ipython",
    "version": 3
   },
   "file_extension": ".py",
   "mimetype": "text/x-python",
   "name": "python",
   "nbconvert_exporter": "python",
   "pygments_lexer": "ipython3",
   "version": "3.8.10"
  }
 },
 "nbformat": 4,
 "nbformat_minor": 5
}
