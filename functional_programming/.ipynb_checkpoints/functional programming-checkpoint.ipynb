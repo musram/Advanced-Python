{
 "cells": [
  {
   "cell_type": "markdown",
   "id": "1055ff8c",
   "metadata": {},
   "source": [
    "https://www.youtube.com/playlist?list=PLP8GkvaIxJP1z5bu4NX_bFrEInBkAgTMr"
   ]
  },
  {
   "cell_type": "code",
   "execution_count": 43,
   "id": "bb1d6d15",
   "metadata": {},
   "outputs": [],
   "source": [
    "from collections import namedtuple\n",
    "from functools import reduce\n",
    "from pprint import pprint"
   ]
  },
  {
   "cell_type": "markdown",
   "id": "9633b102",
   "metadata": {},
   "source": [
    "When we want immutable data structure do not use list or dict. Use tuple , namedtuple"
   ]
  },
  {
   "cell_type": "code",
   "execution_count": 7,
   "id": "ca7ce834",
   "metadata": {},
   "outputs": [],
   "source": [
    "scientist = namedtuple(\"scientist\", [\"name\", \"field\", \"born\", \"nobel\"])"
   ]
  },
  {
   "cell_type": "code",
   "execution_count": 23,
   "id": "8a6e78ec",
   "metadata": {},
   "outputs": [],
   "source": [
    "scientists = (scientist(name=\"Ada Lovelace\", field=\"math\", born=1815, nobel=False), scientist(name=\"Emmy Noether\", field=\"math\", born=1882, nobel=False), scientist(name=\"Marie curie\", field=\"physics\", born=1867, nobel=True),scientist(name=\"Ada Yonath\", field=\"chemistry\", born=1939, nobel=True) )"
   ]
  },
  {
   "cell_type": "code",
   "execution_count": 24,
   "id": "8417a296",
   "metadata": {},
   "outputs": [
    {
     "name": "stdout",
     "output_type": "stream",
     "text": [
      "(scientist(name='Ada Lovelace', field='math', born=1815, nobel=False),\n",
      " scientist(name='Emmy Noether', field='math', born=1882, nobel=False),\n",
      " scientist(name='Marie curie', field='physics', born=1867, nobel=True),\n",
      " scientist(name='Ada Yonath', field='chemistry', born=1939, nobel=True))\n"
     ]
    }
   ],
   "source": [
    "pprint(scientists)"
   ]
  },
  {
   "cell_type": "code",
   "execution_count": 25,
   "id": "67a3f9f1",
   "metadata": {},
   "outputs": [
    {
     "data": {
      "text/plain": [
       "('Ada Lovelace', 'Emmy Noether')"
      ]
     },
     "execution_count": 25,
     "metadata": {},
     "output_type": "execute_result"
    }
   ],
   "source": [
    "scientists[0].name, scientists[1].name"
   ]
  },
  {
   "cell_type": "markdown",
   "id": "c8b34dfd",
   "metadata": {},
   "source": [
    "filter"
   ]
  },
  {
   "cell_type": "code",
   "execution_count": 26,
   "id": "4f589c84",
   "metadata": {},
   "outputs": [
    {
     "name": "stdout",
     "output_type": "stream",
     "text": [
      "<filter object at 0x0000023434A8F888>\n"
     ]
    }
   ],
   "source": [
    "pprint(filter(lambda x : x.nobel == True, scientists))"
   ]
  },
  {
   "cell_type": "markdown",
   "id": "f9885109",
   "metadata": {},
   "source": [
    "pprint(tuple(filter(lambda x : x.nobel == True, scientists)))"
   ]
  },
  {
   "cell_type": "markdown",
   "id": "ecf8d43b",
   "metadata": {},
   "source": [
    "filter object is iterator"
   ]
  },
  {
   "cell_type": "code",
   "execution_count": 28,
   "id": "7e1a6441",
   "metadata": {},
   "outputs": [],
   "source": [
    "s = filter(lambda x : x.nobel == True, scientists)"
   ]
  },
  {
   "cell_type": "code",
   "execution_count": 31,
   "id": "e44b050f",
   "metadata": {},
   "outputs": [
    {
     "data": {
      "text/plain": [
       "scientist(name='Marie curie', field='physics', born=1867, nobel=True)"
      ]
     },
     "execution_count": 31,
     "metadata": {},
     "output_type": "execute_result"
    }
   ],
   "source": [
    "next(s)"
   ]
  },
  {
   "cell_type": "code",
   "execution_count": 32,
   "id": "c96cfbc2",
   "metadata": {},
   "outputs": [
    {
     "data": {
      "text/plain": [
       "scientist(name='Ada Yonath', field='chemistry', born=1939, nobel=True)"
      ]
     },
     "execution_count": 32,
     "metadata": {},
     "output_type": "execute_result"
    }
   ],
   "source": [
    "next(s)"
   ]
  },
  {
   "cell_type": "code",
   "execution_count": 33,
   "id": "8bc87d1a",
   "metadata": {},
   "outputs": [
    {
     "ename": "StopIteration",
     "evalue": "",
     "output_type": "error",
     "traceback": [
      "\u001b[1;31m---------------------------------------------------------------------------\u001b[0m",
      "\u001b[1;31mStopIteration\u001b[0m                             Traceback (most recent call last)",
      "\u001b[1;32m<ipython-input-33-61c30b5fe1d5>\u001b[0m in \u001b[0;36m<module>\u001b[1;34m\u001b[0m\n\u001b[1;32m----> 1\u001b[1;33m \u001b[0mnext\u001b[0m\u001b[1;33m(\u001b[0m\u001b[0ms\u001b[0m\u001b[1;33m)\u001b[0m\u001b[1;33m\u001b[0m\u001b[1;33m\u001b[0m\u001b[0m\n\u001b[0m",
      "\u001b[1;31mStopIteration\u001b[0m: "
     ]
    }
   ],
   "source": [
    "next(s)"
   ]
  },
  {
   "cell_type": "markdown",
   "id": "1dd9e435",
   "metadata": {},
   "source": [
    "map for transformation"
   ]
  },
  {
   "cell_type": "markdown",
   "id": "177d2f1b",
   "metadata": {},
   "source": [
    "transform tuple to tuple dict"
   ]
  },
  {
   "cell_type": "code",
   "execution_count": 37,
   "id": "6e6a7d51",
   "metadata": {},
   "outputs": [
    {
     "data": {
      "text/plain": [
       "({'name': 'Ada Lovelace', 'field': 'math', 'born': 1815, 'nobel': False},\n",
       " {'name': 'Emmy Noether', 'field': 'math', 'born': 1882, 'nobel': False},\n",
       " {'name': 'Marie curie', 'field': 'physics', 'born': 1867, 'nobel': True},\n",
       " {'name': 'Ada Yonath', 'field': 'chemistry', 'born': 1939, 'nobel': True})"
      ]
     },
     "execution_count": 37,
     "metadata": {},
     "output_type": "execute_result"
    }
   ],
   "source": [
    "tuple(map(lambda x: {\"name\":x.name, \"field\":x.field, \"born\":x.born, \"nobel\":x.nobel}, scientists))"
   ]
  },
  {
   "cell_type": "markdown",
   "id": "3ffdbac3",
   "metadata": {},
   "source": [
    "reduce"
   ]
  },
  {
   "cell_type": "code",
   "execution_count": 38,
   "id": "99e8814d",
   "metadata": {},
   "outputs": [],
   "source": [
    "names_and_ages = tuple({'name':x.name, 'age': 2017 - x.born} for x in scientists)"
   ]
  },
  {
   "cell_type": "code",
   "execution_count": 39,
   "id": "2dbd6666",
   "metadata": {},
   "outputs": [
    {
     "data": {
      "text/plain": [
       "({'name': 'Ada Lovelace', 'age': 202},\n",
       " {'name': 'Emmy Noether', 'age': 135},\n",
       " {'name': 'Marie curie', 'age': 150},\n",
       " {'name': 'Ada Yonath', 'age': 78})"
      ]
     },
     "execution_count": 39,
     "metadata": {},
     "output_type": "execute_result"
    }
   ],
   "source": [
    "names_and_ages"
   ]
  },
  {
   "cell_type": "markdown",
   "id": "60e3bd06",
   "metadata": {},
   "source": [
    "Total age"
   ]
  },
  {
   "cell_type": "code",
   "execution_count": 54,
   "id": "b926802e",
   "metadata": {},
   "outputs": [
    {
     "data": {
      "text/plain": [
       "565"
      ]
     },
     "execution_count": 54,
     "metadata": {},
     "output_type": "execute_result"
    }
   ],
   "source": [
    "total_age = reduce(lambda acc, val : acc + val['age'], names_and_ages, 0)\n",
    "total_age"
   ]
  },
  {
   "cell_type": "markdown",
   "id": "52a43744",
   "metadata": {},
   "source": [
    "group by field"
   ]
  },
  {
   "cell_type": "code",
   "execution_count": 60,
   "id": "70a5df16",
   "metadata": {},
   "outputs": [],
   "source": [
    "def f_reducer(acc, val):\n",
    "    acc[val.field].append(val.name)\n",
    "    return acc"
   ]
  },
  {
   "cell_type": "code",
   "execution_count": 61,
   "id": "3111c43d",
   "metadata": {},
   "outputs": [],
   "source": [
    "s_by_fields = reduce(f_reducer, scientists, {'math':[], 'physics':[], 'chemistry':[]})"
   ]
  },
  {
   "cell_type": "code",
   "execution_count": 62,
   "id": "785f8c71",
   "metadata": {},
   "outputs": [
    {
     "name": "stdout",
     "output_type": "stream",
     "text": [
      "{'chemistry': ['Ada Yonath'],\n",
      " 'math': ['Ada Lovelace', 'Emmy Noether'],\n",
      " 'physics': ['Marie curie']}\n"
     ]
    }
   ],
   "source": [
    "pprint(s_by_fields)"
   ]
  },
  {
   "cell_type": "code",
   "execution_count": 79,
   "id": "e24c829d",
   "metadata": {},
   "outputs": [
    {
     "data": {
      "text/plain": [
       "{'math': ['Ada Lovelace', 'Emmy Noether'],\n",
       " 'physics': ['Marie curie'],\n",
       " 'chemistry': ['Ada Yonath']}"
      ]
     },
     "execution_count": 79,
     "metadata": {},
     "output_type": "execute_result"
    }
   ],
   "source": [
    "s_by_fields = reduce(lambda acc, val : {**acc, **{val.field: acc[val.field] + [val.name]}}, scientists, {'math':[], 'physics':[], 'chemistry':[]})\n",
    "s_by_fields"
   ]
  },
  {
   "cell_type": "markdown",
   "id": "7bb3962e",
   "metadata": {},
   "source": [
    "using defaultdict"
   ]
  },
  {
   "cell_type": "code",
   "execution_count": 63,
   "id": "3bb842a2",
   "metadata": {},
   "outputs": [],
   "source": [
    "from collections import defaultdict"
   ]
  },
  {
   "cell_type": "code",
   "execution_count": 64,
   "id": "b28ed9ab",
   "metadata": {},
   "outputs": [],
   "source": [
    "s_by_fields = reduce(f_reducer, scientists, defaultdict(list))"
   ]
  },
  {
   "cell_type": "code",
   "execution_count": 65,
   "id": "29e2a56d",
   "metadata": {},
   "outputs": [
    {
     "name": "stdout",
     "output_type": "stream",
     "text": [
      "defaultdict(<class 'list'>,\n",
      "            {'chemistry': ['Ada Yonath'],\n",
      "             'math': ['Ada Lovelace', 'Emmy Noether'],\n",
      "             'physics': ['Marie curie']})\n"
     ]
    }
   ],
   "source": [
    "pprint(s_by_fields)"
   ]
  },
  {
   "cell_type": "markdown",
   "id": "f4f4d968",
   "metadata": {},
   "source": [
    "Use comprehension to acheive same thing"
   ]
  },
  {
   "cell_type": "code",
   "execution_count": 66,
   "id": "069a335b",
   "metadata": {},
   "outputs": [],
   "source": [
    "from itertools import groupby"
   ]
  },
  {
   "cell_type": "code",
   "execution_count": 74,
   "id": "c9c55bb1",
   "metadata": {},
   "outputs": [],
   "source": [
    "s_by_fields = { x[0]:list(x[1])  for x in groupby(scientists, lambda x: x.field)}"
   ]
  },
  {
   "cell_type": "code",
   "execution_count": 75,
   "id": "e3d1385a",
   "metadata": {},
   "outputs": [
    {
     "data": {
      "text/plain": [
       "{'math': [scientist(name='Ada Lovelace', field='math', born=1815, nobel=False),\n",
       "  scientist(name='Emmy Noether', field='math', born=1882, nobel=False)],\n",
       " 'physics': [scientist(name='Marie curie', field='physics', born=1867, nobel=True)],\n",
       " 'chemistry': [scientist(name='Ada Yonath', field='chemistry', born=1939, nobel=True)]}"
      ]
     },
     "execution_count": 75,
     "metadata": {},
     "output_type": "execute_result"
    }
   ],
   "source": [
    "s_by_fields"
   ]
  },
  {
   "cell_type": "markdown",
   "id": "ee73fca6",
   "metadata": {},
   "source": [
    "Write functions to compute the average value and variance using for loops"
   ]
  },
  {
   "cell_type": "code",
   "execution_count": 89,
   "id": "6251736b",
   "metadata": {},
   "outputs": [],
   "source": [
    "from operator import add\n",
    "X = [5, 1, 2, 3, 1, 2, 5, 4]\n",
    "P = [0.05, 0.05, 0.15, 0.05, 0.15, 0.2, 0.1, 0.25]\n",
    "def mean_variance(X, P):\n",
    "    mean = reduce(add, map(lambda x, p : x*p, X, P))\n",
    "    sigma = reduce(add, map(lambda x, p: (x - mean)**2*p, X, P ))\n",
    "    return mean, sigma\n",
    "                  \n",
    "    "
   ]
  },
  {
   "cell_type": "code",
   "execution_count": 90,
   "id": "63eae73c",
   "metadata": {},
   "outputs": [
    {
     "data": {
      "text/plain": [
       "(2.8, 1.9600000000000002)"
      ]
     },
     "execution_count": 90,
     "metadata": {},
     "output_type": "execute_result"
    }
   ],
   "source": [
    "mean_variance(X, P)"
   ]
  },
  {
   "cell_type": "code",
   "execution_count": null,
   "id": "87b64785",
   "metadata": {},
   "outputs": [],
   "source": []
  }
 ],
 "metadata": {
  "kernelspec": {
   "display_name": "Python 3",
   "language": "python",
   "name": "python3"
  },
  "language_info": {
   "codemirror_mode": {
    "name": "ipython",
    "version": 3
   },
   "file_extension": ".py",
   "mimetype": "text/x-python",
   "name": "python",
   "nbconvert_exporter": "python",
   "pygments_lexer": "ipython3",
   "version": "3.8.10"
  }
 },
 "nbformat": 4,
 "nbformat_minor": 5
}
